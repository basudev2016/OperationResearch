{
 "cells": [
  {
   "cell_type": "markdown",
   "metadata": {},
   "source": [
    "Step 1: Problem Recap\n",
    "The problem is about maximizing the profit from producing two products, x1 (Product A) and x2 (Product B), \n",
    "given resource constraints.\n",
    "Objective Function:\n",
    "Maximize Z =40x1+30x2\n",
    "Constraints:\n",
    "1.\tMachine 1 usage: 2x1 + x2 ≤ 40\n",
    "2.\tMachine 2 usage: x1 + 2x2 ≤ 50\n",
    "3.\tNon-negativity: x1 , x2 ≥ 0 \n"
   ]
  },
  {
   "cell_type": "markdown",
   "metadata": {},
   "source": [
    "Step 2: Solve Using Python and PuLP"
   ]
  },
  {
   "cell_type": "code",
   "execution_count": 1,
   "metadata": {},
   "outputs": [
    {
     "name": "stdout",
     "output_type": "stream",
     "text": [
      "Collecting pulp\n",
      "  Using cached PuLP-2.9.0-py3-none-any.whl.metadata (5.4 kB)\n",
      "Using cached PuLP-2.9.0-py3-none-any.whl (17.7 MB)\n",
      "Installing collected packages: pulp\n",
      "Successfully installed pulp-2.9.0\n",
      "Note: you may need to restart the kernel to use updated packages.\n"
     ]
    }
   ],
   "source": [
    "%pip install pulp\n"
   ]
  },
  {
   "cell_type": "code",
   "execution_count": 2,
   "metadata": {},
   "outputs": [],
   "source": [
    "from pulp import LpMaximize, LpProblem, LpVariable\n",
    "\n",
    "# Step 1: Define the problem\n",
    "prob = LpProblem(\"Maximize_Profit\", LpMaximize)"
   ]
  },
  {
   "cell_type": "code",
   "execution_count": 3,
   "metadata": {},
   "outputs": [],
   "source": [
    "# Step 2: Define decision variables\n",
    "x1 = LpVariable(\"x1\", lowBound=0)  # Product A\n",
    "x2 = LpVariable(\"x2\", lowBound=0)  # Product B\n"
   ]
  },
  {
   "cell_type": "code",
   "execution_count": 5,
   "metadata": {},
   "outputs": [],
   "source": [
    "# Step 3: Define the objective function\n",
    "prob += 40 * x1 + 30 * x2, \"Total_Profit\""
   ]
  },
  {
   "cell_type": "code",
   "execution_count": 4,
   "metadata": {},
   "outputs": [],
   "source": [
    "# Step 4: Define the constraints\n",
    "prob += 2 * x1 + x2 <= 40, \"Machine_1_Constraint\"\n",
    "prob += x1 + 2 * x2 <= 50, \"Machine_2_Constraint\""
   ]
  },
  {
   "cell_type": "code",
   "execution_count": 6,
   "metadata": {},
   "outputs": [
    {
     "data": {
      "text/plain": [
       "1"
      ]
     },
     "execution_count": 6,
     "metadata": {},
     "output_type": "execute_result"
    }
   ],
   "source": [
    "# Step 5: Solve the problem\n",
    "prob.solve()"
   ]
  },
  {
   "cell_type": "code",
   "execution_count": 7,
   "metadata": {},
   "outputs": [
    {
     "name": "stdout",
     "output_type": "stream",
     "text": [
      "Status: 1\n",
      "Optimal solution:\n",
      "Units of Product A (x1): 10.0\n",
      "Units of Product B (x2): 20.0\n",
      "Maximum Profit: $1000.0\n"
     ]
    }
   ],
   "source": [
    "# Step 6: Print results\n",
    "print(f\"Status: {prob.status}\")\n",
    "print(f\"Optimal solution:\")\n",
    "print(f\"Units of Product A (x1): {x1.varValue}\")\n",
    "print(f\"Units of Product B (x2): {x2.varValue}\")\n",
    "print(f\"Maximum Profit: ${prob.objective.value()}\")"
   ]
  }
 ],
 "metadata": {
  "kernelspec": {
   "display_name": "gaifndtion",
   "language": "python",
   "name": "python3"
  },
  "language_info": {
   "codemirror_mode": {
    "name": "ipython",
    "version": 3
   },
   "file_extension": ".py",
   "mimetype": "text/x-python",
   "name": "python",
   "nbconvert_exporter": "python",
   "pygments_lexer": "ipython3",
   "version": "3.8.19"
  }
 },
 "nbformat": 4,
 "nbformat_minor": 2
}
