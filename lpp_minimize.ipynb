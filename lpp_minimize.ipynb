{
 "cells": [
  {
   "cell_type": "code",
   "execution_count": 33,
   "metadata": {},
   "outputs": [],
   "source": [
    "from pulp import LpMinimize, LpProblem, LpVariable, PULP_CBC_CMD, GLPK_CMD\n",
    "\n"
   ]
  },
  {
   "cell_type": "code",
   "execution_count": 34,
   "metadata": {},
   "outputs": [],
   "source": [
    "# Step 1: Define the problem\n",
    "prob = LpProblem(\"Minimize_Cost\", LpMinimize)"
   ]
  },
  {
   "cell_type": "code",
   "execution_count": 35,
   "metadata": {},
   "outputs": [],
   "source": [
    "# Step 2: Define decision variables\n",
    "x1 = LpVariable(\"x1\", lowBound=0)  # Units of Product A\n",
    "x2 = LpVariable(\"x2\", lowBound=0)  # Units of Product B"
   ]
  },
  {
   "cell_type": "code",
   "execution_count": 36,
   "metadata": {},
   "outputs": [],
   "source": [
    "# Step 3: Define the objective function\n",
    "prob += 50 * x1 + 40 * x2, \"Total_Cost\""
   ]
  },
  {
   "cell_type": "code",
   "execution_count": 37,
   "metadata": {},
   "outputs": [],
   "source": [
    "# Step 4: Define the constraints\n",
    "prob += 3 * x1 + 2 * x2 <= 60, \"Machine_1_Constraint\"\n",
    "prob += x1 + 3 * x2 <= 60, \"Machine_2_Constraint\"\n",
    "prob += x1 >= 10, \"Demand_Product_A\"\n",
    "prob += x2 >= 15, \"Demand_Product_B\""
   ]
  },
  {
   "cell_type": "code",
   "execution_count": 38,
   "metadata": {},
   "outputs": [
    {
     "data": {
      "text/plain": [
       "1"
      ]
     },
     "execution_count": 38,
     "metadata": {},
     "output_type": "execute_result"
    }
   ],
   "source": [
    "# Step 5: Solve the problem with detailed output\n",
    "# prob.solve(PULP_CBC_CMD(msg=True))\n",
    "prob.solve()\n"
   ]
  },
  {
   "cell_type": "code",
   "execution_count": 39,
   "metadata": {},
   "outputs": [
    {
     "name": "stdout",
     "output_type": "stream",
     "text": [
      "Status: 1\n",
      "Optimal solution:\n",
      "Units of Product A (x1): 10.0\n",
      "Units of Product B (x2): 15.0\n",
      "Minimum Cost: $1100.0\n"
     ]
    }
   ],
   "source": [
    "# Step 6: Print results\n",
    "print(f\"Status: {prob.status}\")\n",
    "print(\"Optimal solution:\")\n",
    "print(f\"Units of Product A (x1): {x1.varValue}\")\n",
    "print(f\"Units of Product B (x2): {x2.varValue}\")\n",
    "print(f\"Minimum Cost: ${prob.objective.value()}\")"
   ]
  }
 ],
 "metadata": {
  "kernelspec": {
   "display_name": "gaifndtion",
   "language": "python",
   "name": "python3"
  },
  "language_info": {
   "codemirror_mode": {
    "name": "ipython",
    "version": 3
   },
   "file_extension": ".py",
   "mimetype": "text/x-python",
   "name": "python",
   "nbconvert_exporter": "python",
   "pygments_lexer": "ipython3",
   "version": "3.8.19"
  }
 },
 "nbformat": 4,
 "nbformat_minor": 2
}
