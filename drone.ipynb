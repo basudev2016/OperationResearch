{
 "cells": [
  {
   "cell_type": "code",
   "execution_count": 9,
   "metadata": {},
   "outputs": [],
   "source": [
    "import numpy as np\n",
    "import matplotlib.pyplot as plt\n",
    "import random"
   ]
  },
  {
   "cell_type": "code",
   "execution_count": 10,
   "metadata": {},
   "outputs": [],
   "source": [
    "\n",
    "# Define the environment\n",
    "grid = np.array([\n",
    "    ['W', '0', 'X', '0', '0'],\n",
    "    ['0', '0', 'X', '0', '0'],\n",
    "    ['0', '0', '0', '0', '0'],\n",
    "    ['X', '0', 'X', 'X', '0'],\n",
    "    ['0', '0', '0', '0', 'D']\n",
    "])"
   ]
  },
  {
   "cell_type": "code",
   "execution_count": 11,
   "metadata": {},
   "outputs": [],
   "source": [
    "# Reward structure\n",
    "rewards = np.full((5, 5), -1)  # Default penalty for moving\n",
    "restricted_cells = [(0, 2), (1, 2), (3, 0), (3, 2), (3, 3)]  # Restricted airspace\n",
    "for cell in restricted_cells:\n",
    "    rewards[cell] = -10\n",
    "rewards[4, 4] = 100  # Reward for reaching the goal"
   ]
  },
  {
   "cell_type": "code",
   "execution_count": 12,
   "metadata": {},
   "outputs": [],
   "source": [
    "# Q-table\n",
    "q_table = np.zeros((25, 4))  # 25 states, 4 actions\n",
    "\n",
    "# Actions: 0=Up, 1=Down, 2=Left, 3=Right\n",
    "actions = [0, 1, 2, 3]\n",
    "\n",
    "# Learning parameters\n",
    "alpha = 0.1  # Learning rate\n",
    "gamma = 0.9  # Discount factor\n",
    "epsilon = 0.2  # Exploration rate\n",
    "episodes = 1000"
   ]
  },
  {
   "cell_type": "code",
   "execution_count": 13,
   "metadata": {},
   "outputs": [],
   "source": [
    "# Helper functions\n",
    "def state_to_coordinates(state):\n",
    "    return divmod(state, 5)\n",
    "\n",
    "def coordinates_to_state(row, col):\n",
    "    return row * 5 + col\n",
    "\n",
    "def step(state, action):\n",
    "    row, col = state_to_coordinates(state)\n",
    "    if action == 0:  # Up\n",
    "        row = max(0, row - 1)\n",
    "    elif action == 1:  # Down\n",
    "        row = min(4, row + 1)\n",
    "    elif action == 2:  # Left\n",
    "        col = max(0, col - 1)\n",
    "    elif action == 3:  # Right\n",
    "        col = min(4, col + 1)\n",
    "    next_state = coordinates_to_state(row, col)\n",
    "    return next_state, rewards[row, col]"
   ]
  },
  {
   "cell_type": "code",
   "execution_count": 14,
   "metadata": {},
   "outputs": [],
   "source": [
    "\n",
    "# Q-Learning algorithm\n",
    "for episode in range(episodes):\n",
    "    state = 0  # Start at (0, 0)\n",
    "    done = False\n",
    "\n",
    "    while not done:\n",
    "        # Choose action using ε-greedy policy\n",
    "        if random.uniform(0, 1) < epsilon:\n",
    "            action = random.choice(actions)  # Exploration\n",
    "        else:\n",
    "            action = np.argmax(q_table[state])  # Exploitation\n",
    "\n",
    "        # Take action and observe the next state and reward\n",
    "        next_state, reward = step(state, action)\n",
    "\n",
    "        # Update Q-value\n",
    "        q_table[state, action] = q_table[state, action] + alpha * (\n",
    "            reward + gamma * np.max(q_table[next_state]) - q_table[state, action]\n",
    "        )\n",
    "\n",
    "        # Transition to the next state\n",
    "        state = next_state\n",
    "\n",
    "        # Check if goal is reached\n",
    "        if state == 24 or reward == -10:  # Delivery point or restricted area\n",
    "            done = True\n",
    "\n"
   ]
  },
  {
   "cell_type": "code",
   "execution_count": 15,
   "metadata": {},
   "outputs": [
    {
     "name": "stderr",
     "output_type": "stream",
     "text": [
      "C:\\Users\\Admin\\AppData\\Local\\Temp\\ipykernel_6988\\3570254627.py:27: UserWarning: Setting the 'color' property will override the edgecolor or facecolor properties.\n",
      "  ax.add_patch(plt.Rectangle((j, 4 - i), 1, 1, color=color, edgecolor='black'))\n"
     ]
    },
    {
     "data": {
      "image/png": "[encoded data removed]",
      "text/plain": [
       "<Figure size 600x600 with 1 Axes>"
      ]
     },
     "metadata": {},
     "output_type": "display_data"
    }
   ],
   "source": [
    "# Visualize the optimal path\n",
    "def find_optimal_path(q_table):\n",
    "    path = []\n",
    "    state = 0  # Start at (0, 0)\n",
    "\n",
    "    while state != 24:  # Until reaching the delivery point (D)\n",
    "        path.append(state_to_coordinates(state))\n",
    "        action = np.argmax(q_table[state])  # Best action\n",
    "        state, _ = step(state, action)\n",
    "\n",
    "    path.append((4, 4))  # Add the delivery point\n",
    "    return path\n",
    "\n",
    "path = find_optimal_path(q_table)\n",
    "\n",
    "# Plot the grid and path\n",
    "fig, ax = plt.subplots(figsize=(6, 6))\n",
    "for i in range(5):\n",
    "    for j in range(5):\n",
    "        color = 'white'\n",
    "        if grid[i, j] == 'W':\n",
    "            color = 'green'  # Start\n",
    "        elif grid[i, j] == 'D':\n",
    "            color = 'blue'  # Goal\n",
    "        elif grid[i, j] == 'X':\n",
    "            color = 'red'  # Restricted airspace\n",
    "        ax.add_patch(plt.Rectangle((j, 4 - i), 1, 1, color=color, edgecolor='black'))\n",
    "\n",
    "# Annotate the path\n",
    "for step, (i, j) in enumerate(path):\n",
    "    plt.text(j + 0.5, 4 - i + 0.5, str(step), ha='center', va='center', color='black')\n",
    "\n",
    "# Adjust plot\n",
    "ax.set_xlim(0, 5)\n",
    "ax.set_ylim(0, 5)\n",
    "plt.grid(True)\n",
    "plt.title(\"Optimal Path for Drone Navigation\")\n",
    "plt.gca().set_aspect('equal', adjustable='box')\n",
    "plt.show()\n"
   ]
  },
  {
   "cell_type": "code",
   "execution_count": null,
   "metadata": {},
   "outputs": [],
   "source": []
  }
 ],
 "metadata": {
  "kernelspec": {
   "display_name": "gaifndtion",
   "language": "python",
   "name": "python3"
  },
  "language_info": {
   "codemirror_mode": {
    "name": "ipython",
    "version": 3
   },
   "file_extension": ".py",
   "mimetype": "text/x-python",
   "name": "python",
   "nbconvert_exporter": "python",
   "pygments_lexer": "ipython3",
   "version": "3.8.19"
  }
 },
 "nbformat": 4,
 "nbformat_minor": 2
}
